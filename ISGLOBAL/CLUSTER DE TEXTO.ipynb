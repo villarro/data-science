{
 "cells": [
  {
   "cell_type": "markdown",
   "id": "786783f6",
   "metadata": {},
   "source": [
    "#### ANALISIS DE TEXTO. Realizar clasificación con texto de un archivo de excel"
   ]
  },
  {
   "cell_type": "markdown",
   "id": "4904a2a0",
   "metadata": {},
   "source": [
    "#### Developed by. Luis Villarroel. Master in statistics\n",
    "#### Email: l_villarro@ucb.edu.bo\n",
    "####             l_villarro@yahoo.es\n",
    "#### Phone. +1 (425) 3640605\n",
    "#### Seattle Washington, USA"
   ]
  },
  {
   "cell_type": "code",
   "execution_count": 1,
   "id": "9e44f1b8",
   "metadata": {},
   "outputs": [],
   "source": [
    "import pandas as pd\n",
    "from sklearn.feature_extraction.text import TfidfVectorizer\n",
    "from sklearn.cluster import KMeans"
   ]
  },
  {
   "cell_type": "code",
   "execution_count": 2,
   "id": "e4d0dd16",
   "metadata": {},
   "outputs": [],
   "source": [
    "# Leer el archivo de Excel\n",
    "df = pd.read_excel(\"prueba.xlsx\")"
   ]
  },
  {
   "cell_type": "code",
   "execution_count": 3,
   "id": "6b3892fc",
   "metadata": {},
   "outputs": [
    {
     "name": "stdout",
     "output_type": "stream",
     "text": [
      "Documentos agrupados en clusters:\n",
      "      ESTABLECIMIENTO RESPONSABLE                  RESP1  cluster\n",
      "0                 1.0           A         School/college        1\n",
      "1                 2.0           B  Roaming around freely        4\n",
      "2                 3.0           C             Travelling        2\n",
      "3                 4.0           D    Friends , relatives        3\n",
      "4                 5.0           E             Travelling        2\n",
      "...               ...         ...                    ...      ...\n",
      "1177              NaN         NaN             Travelling        2\n",
      "1178              NaN         NaN    Friends , relatives        3\n",
      "1179              NaN         NaN         School/college        1\n",
      "1180              NaN         NaN         School/college        1\n",
      "1181              NaN         NaN         School/college        1\n",
      "\n",
      "[1182 rows x 4 columns]\n"
     ]
    }
   ],
   "source": [
    "# Inicializar el vectorizador Tf-idf\n",
    "tfidf = TfidfVectorizer()\n",
    "\n",
    "# Transformar el texto en una matriz Tf-idf\n",
    "X = tfidf.fit_transform(df[\"RESP1\"])\n",
    "\n",
    "# Inicializar el algoritmo de clustering KMeans\n",
    "kmeans = KMeans(n_clusters=5)\n",
    "\n",
    "# Ajustar el modelo de clustering a los datos\n",
    "kmeans.fit(X)\n",
    "\n",
    "# Asignar cada documento a un cluster\n",
    "df[\"cluster\"] = kmeans.predict(X)\n",
    "\n",
    "print(\"Documentos agrupados en clusters:\")\n",
    "print(df)\n"
   ]
  },
  {
   "cell_type": "code",
   "execution_count": 3,
   "id": "03639a5f",
   "metadata": {},
   "outputs": [
    {
     "data": {
      "text/html": [
       "<div>\n",
       "<style scoped>\n",
       "    .dataframe tbody tr th:only-of-type {\n",
       "        vertical-align: middle;\n",
       "    }\n",
       "\n",
       "    .dataframe tbody tr th {\n",
       "        vertical-align: top;\n",
       "    }\n",
       "\n",
       "    .dataframe thead th {\n",
       "        text-align: right;\n",
       "    }\n",
       "</style>\n",
       "<table border=\"1\" class=\"dataframe\">\n",
       "  <thead>\n",
       "    <tr style=\"text-align: right;\">\n",
       "      <th></th>\n",
       "      <th>ESTABLECIMIENTO</th>\n",
       "      <th>RESPONSABLE</th>\n",
       "      <th>RESP1</th>\n",
       "      <th>cluster</th>\n",
       "    </tr>\n",
       "  </thead>\n",
       "  <tbody>\n",
       "    <tr>\n",
       "      <th>0</th>\n",
       "      <td>1.0</td>\n",
       "      <td>A</td>\n",
       "      <td>School/college</td>\n",
       "      <td>0</td>\n",
       "    </tr>\n",
       "    <tr>\n",
       "      <th>1</th>\n",
       "      <td>2.0</td>\n",
       "      <td>B</td>\n",
       "      <td>Roaming around freely</td>\n",
       "      <td>4</td>\n",
       "    </tr>\n",
       "    <tr>\n",
       "      <th>2</th>\n",
       "      <td>3.0</td>\n",
       "      <td>C</td>\n",
       "      <td>Travelling</td>\n",
       "      <td>1</td>\n",
       "    </tr>\n",
       "    <tr>\n",
       "      <th>3</th>\n",
       "      <td>4.0</td>\n",
       "      <td>D</td>\n",
       "      <td>Friends , relatives</td>\n",
       "      <td>3</td>\n",
       "    </tr>\n",
       "    <tr>\n",
       "      <th>4</th>\n",
       "      <td>5.0</td>\n",
       "      <td>E</td>\n",
       "      <td>Travelling</td>\n",
       "      <td>1</td>\n",
       "    </tr>\n",
       "    <tr>\n",
       "      <th>...</th>\n",
       "      <td>...</td>\n",
       "      <td>...</td>\n",
       "      <td>...</td>\n",
       "      <td>...</td>\n",
       "    </tr>\n",
       "    <tr>\n",
       "      <th>1177</th>\n",
       "      <td>NaN</td>\n",
       "      <td>NaN</td>\n",
       "      <td>Travelling</td>\n",
       "      <td>1</td>\n",
       "    </tr>\n",
       "    <tr>\n",
       "      <th>1178</th>\n",
       "      <td>NaN</td>\n",
       "      <td>NaN</td>\n",
       "      <td>Friends , relatives</td>\n",
       "      <td>3</td>\n",
       "    </tr>\n",
       "    <tr>\n",
       "      <th>1179</th>\n",
       "      <td>NaN</td>\n",
       "      <td>NaN</td>\n",
       "      <td>School/college</td>\n",
       "      <td>0</td>\n",
       "    </tr>\n",
       "    <tr>\n",
       "      <th>1180</th>\n",
       "      <td>NaN</td>\n",
       "      <td>NaN</td>\n",
       "      <td>School/college</td>\n",
       "      <td>0</td>\n",
       "    </tr>\n",
       "    <tr>\n",
       "      <th>1181</th>\n",
       "      <td>NaN</td>\n",
       "      <td>NaN</td>\n",
       "      <td>School/college</td>\n",
       "      <td>0</td>\n",
       "    </tr>\n",
       "  </tbody>\n",
       "</table>\n",
       "<p>1182 rows × 4 columns</p>\n",
       "</div>"
      ],
      "text/plain": [
       "      ESTABLECIMIENTO RESPONSABLE                  RESP1  cluster\n",
       "0                 1.0           A         School/college        0\n",
       "1                 2.0           B  Roaming around freely        4\n",
       "2                 3.0           C             Travelling        1\n",
       "3                 4.0           D    Friends , relatives        3\n",
       "4                 5.0           E             Travelling        1\n",
       "...               ...         ...                    ...      ...\n",
       "1177              NaN         NaN             Travelling        1\n",
       "1178              NaN         NaN    Friends , relatives        3\n",
       "1179              NaN         NaN         School/college        0\n",
       "1180              NaN         NaN         School/college        0\n",
       "1181              NaN         NaN         School/college        0\n",
       "\n",
       "[1182 rows x 4 columns]"
      ]
     },
     "execution_count": 3,
     "metadata": {},
     "output_type": "execute_result"
    }
   ],
   "source": [
    "df"
   ]
  },
  {
   "cell_type": "code",
   "execution_count": 4,
   "id": "b6ed9326",
   "metadata": {},
   "outputs": [
    {
     "name": "stdout",
     "output_type": "stream",
     "text": [
      "1    379\n",
      "0    244\n",
      "3    225\n",
      "2    184\n",
      "4    150\n",
      "Name: cluster, dtype: int64\n"
     ]
    }
   ],
   "source": [
    "# Calcular la tabla de frecuencia de la columna 'columna1'\n",
    "tabla_frecuencia = df['cluster'].value_counts()\n",
    "\n",
    "# Imprimir la tabla de frecuencia\n",
    "print(tabla_frecuencia)"
   ]
  },
  {
   "cell_type": "code",
   "execution_count": null,
   "id": "a4b0fd52",
   "metadata": {},
   "outputs": [],
   "source": []
  }
 ],
 "metadata": {
  "kernelspec": {
   "display_name": "Python 3 (ipykernel)",
   "language": "python",
   "name": "python3"
  },
  "language_info": {
   "codemirror_mode": {
    "name": "ipython",
    "version": 3
   },
   "file_extension": ".py",
   "mimetype": "text/x-python",
   "name": "python",
   "nbconvert_exporter": "python",
   "pygments_lexer": "ipython3",
   "version": "3.9.13"
  }
 },
 "nbformat": 4,
 "nbformat_minor": 5
}
