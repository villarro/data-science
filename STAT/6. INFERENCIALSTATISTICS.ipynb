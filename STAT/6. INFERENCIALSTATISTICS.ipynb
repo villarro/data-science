{
 "cells": [
  {
   "cell_type": "markdown",
   "metadata": {},
   "source": [
    "### GUIDE 4. INFERENTIAL STATISTICS"
   ]
  },
  {
   "cell_type": "markdown",
   "metadata": {},
   "source": [
    "#### Developed by. Luis Villarroel. Master in statistics\n",
    "#### Email. l_villarro@ucb.edu.bo  l_villarro@yahoo.es\n",
    "#### Phone. +1 (206) 307 7131\n",
    "##### Seattle Washington, USA"
   ]
  },
  {
   "cell_type": "code",
   "execution_count": 1,
   "metadata": {},
   "outputs": [],
   "source": [
    "import pandas as pd\n",
    "import numpy as nu \n",
    "import scipy.stats as sc\n",
    "import matplotlib.pyplot as plt\n",
    "import statsmodels.api as sm\n",
    "#!pip install pingouin\n",
    "#import pingouin as pg"
   ]
  },
  {
   "cell_type": "code",
   "execution_count": 2,
   "metadata": {},
   "outputs": [],
   "source": [
    "datos=pd.read_spss(\"D:/GESTIONES/GESTION 2021/CURSOS/UCB/1. UCB SCZ POSTGRADO/UCB POSTGRADO/BD/BDATOS.SAV\")"
   ]
  },
  {
   "cell_type": "code",
   "execution_count": 4,
   "metadata": {
    "scrolled": true
   },
   "outputs": [
    {
     "data": {
      "text/plain": [
       "ID           float64\n",
       "sexo        category\n",
       "edad         float64\n",
       "compra      category\n",
       "ingresos     float64\n",
       "gasto        float64\n",
       "vivienda     float64\n",
       "ngasto      category\n",
       "dtype: object"
      ]
     },
     "execution_count": 4,
     "metadata": {},
     "output_type": "execute_result"
    }
   ],
   "source": [
    "datos.dtypes"
   ]
  },
  {
   "cell_type": "code",
   "execution_count": 5,
   "metadata": {},
   "outputs": [
    {
     "data": {
      "text/html": [
       "<div>\n",
       "<style scoped>\n",
       "    .dataframe tbody tr th:only-of-type {\n",
       "        vertical-align: middle;\n",
       "    }\n",
       "\n",
       "    .dataframe tbody tr th {\n",
       "        vertical-align: top;\n",
       "    }\n",
       "\n",
       "    .dataframe thead th {\n",
       "        text-align: right;\n",
       "    }\n",
       "</style>\n",
       "<table border=\"1\" class=\"dataframe\">\n",
       "  <thead>\n",
       "    <tr style=\"text-align: right;\">\n",
       "      <th></th>\n",
       "      <th>ID</th>\n",
       "      <th>sexo</th>\n",
       "      <th>edad</th>\n",
       "      <th>compra</th>\n",
       "      <th>ingresos</th>\n",
       "      <th>gasto</th>\n",
       "      <th>vivienda</th>\n",
       "      <th>ngasto</th>\n",
       "    </tr>\n",
       "  </thead>\n",
       "  <tbody>\n",
       "    <tr>\n",
       "      <th>0</th>\n",
       "      <td>1.0</td>\n",
       "      <td>Mujer</td>\n",
       "      <td>43.0</td>\n",
       "      <td>si</td>\n",
       "      <td>502.0</td>\n",
       "      <td>550.0</td>\n",
       "      <td>1.0</td>\n",
       "      <td>Alto</td>\n",
       "    </tr>\n",
       "    <tr>\n",
       "      <th>1</th>\n",
       "      <td>2.0</td>\n",
       "      <td>Mujer</td>\n",
       "      <td>61.0</td>\n",
       "      <td>si</td>\n",
       "      <td>703.0</td>\n",
       "      <td>400.0</td>\n",
       "      <td>1.0</td>\n",
       "      <td>Bajo</td>\n",
       "    </tr>\n",
       "    <tr>\n",
       "      <th>2</th>\n",
       "      <td>3.0</td>\n",
       "      <td>Mujer</td>\n",
       "      <td>36.0</td>\n",
       "      <td>si</td>\n",
       "      <td>485.0</td>\n",
       "      <td>400.0</td>\n",
       "      <td>0.0</td>\n",
       "      <td>Bajo</td>\n",
       "    </tr>\n",
       "    <tr>\n",
       "      <th>3</th>\n",
       "      <td>4.0</td>\n",
       "      <td>Mujer</td>\n",
       "      <td>55.0</td>\n",
       "      <td>si</td>\n",
       "      <td>572.0</td>\n",
       "      <td>560.0</td>\n",
       "      <td>1.0</td>\n",
       "      <td>Alto</td>\n",
       "    </tr>\n",
       "    <tr>\n",
       "      <th>4</th>\n",
       "      <td>5.0</td>\n",
       "      <td>Mujer</td>\n",
       "      <td>51.0</td>\n",
       "      <td>si</td>\n",
       "      <td>570.0</td>\n",
       "      <td>470.0</td>\n",
       "      <td>1.0</td>\n",
       "      <td>Normal</td>\n",
       "    </tr>\n",
       "  </tbody>\n",
       "</table>\n",
       "</div>"
      ],
      "text/plain": [
       "    ID   sexo  edad compra  ingresos  gasto  vivienda  ngasto\n",
       "0  1.0  Mujer  43.0     si     502.0  550.0       1.0    Alto\n",
       "1  2.0  Mujer  61.0     si     703.0  400.0       1.0    Bajo\n",
       "2  3.0  Mujer  36.0     si     485.0  400.0       0.0    Bajo\n",
       "3  4.0  Mujer  55.0     si     572.0  560.0       1.0    Alto\n",
       "4  5.0  Mujer  51.0     si     570.0  470.0       1.0  Normal"
      ]
     },
     "execution_count": 5,
     "metadata": {},
     "output_type": "execute_result"
    }
   ],
   "source": [
    "datos.head()"
   ]
  },
  {
   "cell_type": "code",
   "execution_count": 34,
   "metadata": {},
   "outputs": [
    {
     "data": {
      "text/plain": [
       "Index(['ID', 'sexo', 'edad', 'compra', 'ingresos', 'gasto', 'vivienda',\n",
       "       'ngasto'],\n",
       "      dtype='object')"
      ]
     },
     "execution_count": 34,
     "metadata": {},
     "output_type": "execute_result"
    }
   ],
   "source": [
    "datos.columns"
   ]
  },
  {
   "cell_type": "markdown",
   "metadata": {},
   "source": [
    "### 1. METODOS DE ESTIMACION A 1 Y 2 VARIABLES"
   ]
  },
  {
   "cell_type": "markdown",
   "metadata": {},
   "source": [
    "#### H01. ESTIMACION DE UN PROMEDIO"
   ]
  },
  {
   "cell_type": "code",
   "execution_count": null,
   "metadata": {},
   "outputs": [],
   "source": []
  },
  {
   "cell_type": "markdown",
   "metadata": {},
   "source": [
    "#### H02. ESTIMACION DE UNA PROPORCION"
   ]
  },
  {
   "cell_type": "code",
   "execution_count": 3,
   "metadata": {},
   "outputs": [
    {
     "data": {
      "text/html": [
       "<div>\n",
       "<style scoped>\n",
       "    .dataframe tbody tr th:only-of-type {\n",
       "        vertical-align: middle;\n",
       "    }\n",
       "\n",
       "    .dataframe tbody tr th {\n",
       "        vertical-align: top;\n",
       "    }\n",
       "\n",
       "    .dataframe thead th {\n",
       "        text-align: right;\n",
       "    }\n",
       "</style>\n",
       "<table border=\"1\" class=\"dataframe\">\n",
       "  <thead>\n",
       "    <tr style=\"text-align: right;\">\n",
       "      <th>vivienda</th>\n",
       "      <th>No</th>\n",
       "      <th>SI</th>\n",
       "    </tr>\n",
       "    <tr>\n",
       "      <th>sexo</th>\n",
       "      <th></th>\n",
       "      <th></th>\n",
       "    </tr>\n",
       "  </thead>\n",
       "  <tbody>\n",
       "    <tr>\n",
       "      <th>Hombre</th>\n",
       "      <td>9</td>\n",
       "      <td>12</td>\n",
       "    </tr>\n",
       "    <tr>\n",
       "      <th>Mujer</th>\n",
       "      <td>10</td>\n",
       "      <td>11</td>\n",
       "    </tr>\n",
       "  </tbody>\n",
       "</table>\n",
       "</div>"
      ],
      "text/plain": [
       "vivienda  No  SI\n",
       "sexo            \n",
       "Hombre     9  12\n",
       "Mujer     10  11"
      ]
     },
     "execution_count": 3,
     "metadata": {},
     "output_type": "execute_result"
    }
   ],
   "source": [
    "datos['vivienda']=datos.vivienda.replace({1:\"SI\", 0:\"No\"})\n",
    "dato1=datos[[\"sexo\",\"vivienda\"]]\n",
    "#print (dato1)\n",
    "pd.crosstab(dato1.sexo, dato1.vivienda)"
   ]
  },
  {
   "cell_type": "code",
   "execution_count": 4,
   "metadata": {},
   "outputs": [
    {
     "name": "stdout",
     "output_type": "stream",
     "text": [
      "0.47368421052631576\n",
      "0.11454888159631764\n",
      "Limite Inferior: 0.2491684025975332 limite superior: 0.6982000184550983\n"
     ]
    }
   ],
   "source": [
    "n=9+10\n",
    "p_fm=9/n\n",
    "print (p_fm)\n",
    "se_fm=nu.sqrt((p_fm*(1-p_fm)/n)) #usando numpy\n",
    "print(se_fm)\n",
    "LI=p_fm - 1.96*se_fm\n",
    "LS=p_fm + 1.96*se_fm\n",
    "print (\"Limite Inferior:\",LI, \"limite superior:\",LS)"
   ]
  },
  {
   "cell_type": "code",
   "execution_count": 6,
   "metadata": {},
   "outputs": [
    {
     "data": {
      "text/plain": [
       "(0.24917252812819013, 0.6981958929244414)"
      ]
     },
     "execution_count": 6,
     "metadata": {},
     "output_type": "execute_result"
    }
   ],
   "source": [
    "# Calculo del intervalo de confianza usando statsmodel\n",
    "import statsmodels.api as sm\n",
    "sm.stats.proportion_confint(n * p_fm, n)"
   ]
  },
  {
   "cell_type": "markdown",
   "metadata": {},
   "source": [
    "#### H03. ESTIMACION DE UNA VARIANZA"
   ]
  },
  {
   "cell_type": "code",
   "execution_count": null,
   "metadata": {},
   "outputs": [],
   "source": []
  },
  {
   "cell_type": "markdown",
   "metadata": {},
   "source": [
    "### 2. TEST DE HIPOTESIS A 1 Y 2 VARIABLES"
   ]
  },
  {
   "cell_type": "markdown",
   "metadata": {},
   "source": [
    "#### H04. TEST DE CONFORMIDAD DE UN PROMEDIO"
   ]
  },
  {
   "cell_type": "code",
   "execution_count": 7,
   "metadata": {},
   "outputs": [
    {
     "data": {
      "text/plain": [
       "Ttest_1sampResult(statistic=-2.5879176620357125, pvalue=0.013296735725753028)"
      ]
     },
     "execution_count": 7,
     "metadata": {},
     "output_type": "execute_result"
    }
   ],
   "source": [
    "# Test de conformidad con Scipy.Stats\n",
    "#ingreso1=datos.ingresos\n",
    "ingresos1=datos[\"ingresos\"]\n",
    "sc.ttest_1samp(ingresos1,550)\n"
   ]
  },
  {
   "cell_type": "markdown",
   "metadata": {},
   "source": [
    "#### H05. TEST DE CONFORMIDAD DE UNA PROPORCION"
   ]
  },
  {
   "cell_type": "code",
   "execution_count": null,
   "metadata": {},
   "outputs": [],
   "source": []
  },
  {
   "cell_type": "markdown",
   "metadata": {},
   "source": [
    "#### H06. TEST DE CONFORMIDAD DE UNA VARIANZA"
   ]
  },
  {
   "cell_type": "code",
   "execution_count": null,
   "metadata": {},
   "outputs": [],
   "source": []
  },
  {
   "cell_type": "markdown",
   "metadata": {},
   "source": [
    "#### H07. TEST DE COMPARACION DE 2 PROMEDIOS"
   ]
  },
  {
   "cell_type": "code",
   "execution_count": 8,
   "metadata": {},
   "outputs": [
    {
     "name": "stdout",
     "output_type": "stream",
     "text": [
      "      ID   sexo  edad compra  ingresos  gasto vivienda  ngasto\n",
      "0    1.0  Mujer  43.0     si     502.0  550.0       SI    Alto\n",
      "1    2.0  Mujer  61.0     si     703.0  400.0       SI    Bajo\n",
      "2    3.0  Mujer  36.0     si     485.0  400.0       No    Bajo\n",
      "3    4.0  Mujer  55.0     si     572.0  560.0       SI    Alto\n",
      "4    5.0  Mujer  51.0     si     570.0  470.0       SI  Normal\n",
      "5    6.0  Mujer  45.0     no     320.0  270.0       No    Bajo\n",
      "6    7.0  Mujer  44.0     si     734.0  800.0       SI    Alto\n",
      "7    8.0  Mujer  64.0     si     719.0  690.0       SI    Alto\n",
      "8    9.0  Mujer  56.0     si     493.0  570.0       SI    Alto\n",
      "9   10.0  Mujer  58.0     si     620.0  340.0       SI    Bajo\n",
      "10  11.0  Mujer  57.0     no     432.0  460.0       No  Normal\n",
      "11  12.0  Mujer  37.0     si     504.0  500.0       SI  Normal\n",
      "12  13.0  Mujer  64.0     no     350.0  340.0       No    Bajo\n",
      "13  14.0  Mujer  54.0     no     373.0  360.0       No    Bajo\n",
      "14  15.0  Mujer  36.0     no     370.0  400.0       SI    Bajo\n",
      "15  16.0  Mujer  50.0     no     334.0  400.0       No    Bajo\n",
      "16  17.0  Mujer  58.0     si     540.0  500.0       SI  Normal\n",
      "17  18.0  Mujer  60.0     no     450.0  480.0       No  Normal\n",
      "18  19.0  Mujer  54.0     no     350.0  400.0       No    Bajo\n",
      "19  20.0  Mujer  39.0     no     345.0  500.0       No  Normal\n",
      "20  21.0  Mujer  44.0     no     394.0  500.0       No  Normal\n",
      "      ID    sexo  edad compra  ingresos  gasto vivienda  ngasto\n",
      "21  22.0  Hombre  52.0     si     629.0  600.0       SI    Alto\n",
      "22  23.0  Hombre  68.0     si     750.0  800.0       SI    Alto\n",
      "23  24.0  Hombre  62.0     si     462.0  460.0       SI  Normal\n",
      "24  25.0  Hombre  57.0     si     641.0  300.0       No    Bajo\n",
      "25  26.0  Hombre  54.0     no     562.0  470.0       SI  Normal\n",
      "26  27.0  Hombre  58.0     no     508.0  600.0       No    Alto\n",
      "27  28.0  Hombre  55.0     si     562.0  500.0       SI  Normal\n",
      "28  29.0  Hombre  42.0     no     441.0  400.0       No    Bajo\n",
      "29  30.0  Hombre  45.0     no     383.0  370.0       No    Bajo\n",
      "30  31.0  Hombre  57.0     no     550.0  500.0       SI  Normal\n",
      "31  32.0  Hombre  51.0     no     461.0  470.0       No  Normal\n",
      "32  33.0  Hombre  56.0     no     418.0  400.0       No    Bajo\n",
      "33  34.0  Hombre  48.0     no     375.0  320.0       No    Bajo\n",
      "34  35.0  Hombre  42.0     no     413.0  450.0       No  Normal\n",
      "35  36.0  Hombre  45.0     si     508.0  530.0       SI    Alto\n",
      "36  37.0  Hombre  55.0     si     636.0  600.0       SI    Alto\n",
      "37  38.0  Hombre  46.0     si     680.0  690.0       SI    Alto\n",
      "38  39.0  Hombre  56.0     si     621.0  670.0       SI    Alto\n",
      "39  40.0  Hombre  37.0     si     545.0  470.0       SI  Normal\n",
      "40  41.0  Hombre  49.0     si     382.0  370.0       SI    Bajo\n",
      "41  42.0  Hombre  51.0     no     370.0  380.0       No    Bajo\n"
     ]
    }
   ],
   "source": [
    "# Dividir el data.frame\n",
    "opcion1=['Mujer']\n",
    "mujer=datos.loc[datos['sexo'].isin(opcion1)]\n",
    "print (mujer)\n",
    "opcion2=['Hombre']\n",
    "hombre=datos.loc[datos['sexo'].isin(opcion2)]\n",
    "print(hombre)"
   ]
  },
  {
   "cell_type": "code",
   "execution_count": 9,
   "metadata": {},
   "outputs": [
    {
     "name": "stdout",
     "output_type": "stream",
     "text": [
      "stat=0.932, p=0.357\n",
      "Se acepta la hipotesis nula\n"
     ]
    }
   ],
   "source": [
    "from scipy.stats import  ttest_ind\n",
    "\n",
    "y=mujer[\"ingresos\"]\n",
    "x=hombre[\"ingresos\"]\n",
    "stat, p=ttest_ind(x, y)\n",
    "print ('stat=%.3f, p=%.3f' %(stat, p))\n",
    "if p > 0.05:\n",
    "    print ('Se acepta la hipotesis nula')\n",
    "else:\n",
    "    print ('Se rechaza la hipoteis nula')    \n",
    "    "
   ]
  },
  {
   "cell_type": "code",
   "execution_count": 12,
   "metadata": {},
   "outputs": [
    {
     "ename": "NameError",
     "evalue": "name 'pg' is not defined",
     "output_type": "error",
     "traceback": [
      "\u001b[1;31m---------------------------------------------------------------------------\u001b[0m",
      "\u001b[1;31mNameError\u001b[0m                                 Traceback (most recent call last)",
      "\u001b[1;32m<ipython-input-12-fd094144a758>\u001b[0m in \u001b[0;36m<module>\u001b[1;34m\u001b[0m\n\u001b[1;32m----> 1\u001b[1;33m \u001b[0mmodel\u001b[0m \u001b[1;33m=\u001b[0m \u001b[0mpg\u001b[0m\u001b[1;33m.\u001b[0m\u001b[0mttest\u001b[0m\u001b[1;33m(\u001b[0m\u001b[0mx\u001b[0m\u001b[1;33m,\u001b[0m \u001b[0my\u001b[0m\u001b[1;33m)\u001b[0m  \u001b[1;31m# output is a pandas dataframe\u001b[0m\u001b[1;33m\u001b[0m\u001b[1;33m\u001b[0m\u001b[0m\n\u001b[0m\u001b[0;32m      2\u001b[0m \u001b[0mprint\u001b[0m\u001b[1;33m(\u001b[0m\u001b[0mmodel\u001b[0m\u001b[1;33m)\u001b[0m\u001b[1;33m\u001b[0m\u001b[1;33m\u001b[0m\u001b[0m\n",
      "\u001b[1;31mNameError\u001b[0m: name 'pg' is not defined"
     ]
    }
   ],
   "source": [
    "model = pg.ttest(x, y)  # output is a pandas dataframe\n",
    "print(model)"
   ]
  },
  {
   "cell_type": "markdown",
   "metadata": {},
   "source": [
    "#### H09. TEST DE COMPARACION DE 2 PROMEDIOS. MUESTRAS DEPENDIENTES"
   ]
  },
  {
   "cell_type": "code",
   "execution_count": null,
   "metadata": {},
   "outputs": [],
   "source": []
  },
  {
   "cell_type": "markdown",
   "metadata": {},
   "source": [
    "#### H09. TEST DE COMPARACION DE 2 PROPORCIONES"
   ]
  },
  {
   "cell_type": "code",
   "execution_count": null,
   "metadata": {},
   "outputs": [],
   "source": []
  },
  {
   "cell_type": "markdown",
   "metadata": {},
   "source": [
    "#### H10. TEST DE COMPARACION DE 2 VARIANZAS"
   ]
  },
  {
   "cell_type": "code",
   "execution_count": 48,
   "metadata": {},
   "outputs": [
    {
     "name": "stdout",
     "output_type": "stream",
     "text": [
      "               W      pval  equal_var\n",
      "levene  0.412784  0.524225       True\n"
     ]
    }
   ],
   "source": [
    "model=pg.homoscedasticity(datos, dv='ingresos', group='sexo')\n",
    "print(model)"
   ]
  },
  {
   "cell_type": "markdown",
   "metadata": {},
   "source": [
    "#### H11. ANOVA"
   ]
  },
  {
   "cell_type": "code",
   "execution_count": 36,
   "metadata": {},
   "outputs": [
    {
     "name": "stdout",
     "output_type": "stream",
     "text": [
      "   Source             SS  DF            MS         F     p-unc       np2\n",
      "0    sexo   12932.595238   1  12932.595238  0.868774  0.356887  0.021258\n",
      "1  Within  595441.047619  40  14886.026190       NaN       NaN       NaN\n"
     ]
    }
   ],
   "source": [
    "ANOVA=pg.anova(data=datos, dv='ingresos', between='sexo', detailed=True)\n",
    "print(ANOVA)"
   ]
  },
  {
   "cell_type": "markdown",
   "metadata": {},
   "source": [
    "### 3. OTROS TEST DE HIPOTESIS"
   ]
  },
  {
   "cell_type": "markdown",
   "metadata": {},
   "source": [
    "#### H12. TEST DE SIGNIFICACION DE CORRELACION"
   ]
  },
  {
   "cell_type": "code",
   "execution_count": 18,
   "metadata": {},
   "outputs": [
    {
     "data": {
      "text/html": [
       "<div>\n",
       "<style scoped>\n",
       "    .dataframe tbody tr th:only-of-type {\n",
       "        vertical-align: middle;\n",
       "    }\n",
       "\n",
       "    .dataframe tbody tr th {\n",
       "        vertical-align: top;\n",
       "    }\n",
       "\n",
       "    .dataframe thead th {\n",
       "        text-align: right;\n",
       "    }\n",
       "</style>\n",
       "<table border=\"1\" class=\"dataframe\">\n",
       "  <thead>\n",
       "    <tr style=\"text-align: right;\">\n",
       "      <th></th>\n",
       "      <th>n</th>\n",
       "      <th>r</th>\n",
       "      <th>CI95%</th>\n",
       "      <th>r2</th>\n",
       "      <th>adj_r2</th>\n",
       "      <th>p-val</th>\n",
       "      <th>BF10</th>\n",
       "      <th>power</th>\n",
       "    </tr>\n",
       "  </thead>\n",
       "  <tbody>\n",
       "    <tr>\n",
       "      <th>pearson</th>\n",
       "      <td>42</td>\n",
       "      <td>0.682892</td>\n",
       "      <td>[0.48, 0.82]</td>\n",
       "      <td>0.466341</td>\n",
       "      <td>0.438974</td>\n",
       "      <td>6.280094e-07</td>\n",
       "      <td>3.072e+04</td>\n",
       "      <td>0.999517</td>\n",
       "    </tr>\n",
       "  </tbody>\n",
       "</table>\n",
       "</div>"
      ],
      "text/plain": [
       "          n         r         CI95%        r2    adj_r2         p-val  \\\n",
       "pearson  42  0.682892  [0.48, 0.82]  0.466341  0.438974  6.280094e-07   \n",
       "\n",
       "              BF10     power  \n",
       "pearson  3.072e+04  0.999517  "
      ]
     },
     "execution_count": 18,
     "metadata": {},
     "output_type": "execute_result"
    }
   ],
   "source": [
    "x=datos[\"ingresos\"]\n",
    "y=datos[\"gasto\"]\n",
    "pg.corr(x,y)"
   ]
  },
  {
   "cell_type": "markdown",
   "metadata": {},
   "source": [
    "#### H13. TEST DE SIGNIFICACION GLOBAL E INDIVIDUALES DE LA REGRESION"
   ]
  },
  {
   "cell_type": "code",
   "execution_count": 14,
   "metadata": {},
   "outputs": [
    {
     "name": "stdout",
     "output_type": "stream",
     "text": [
      "                            OLS Regression Results                            \n",
      "==============================================================================\n",
      "Dep. Variable:                  gasto   R-squared:                       0.466\n",
      "Model:                            OLS   Adj. R-squared:                  0.453\n",
      "Method:                 Least Squares   F-statistic:                     34.95\n",
      "Date:                Thu, 01 Apr 2021   Prob (F-statistic):           6.28e-07\n",
      "Time:                        14:50:37   Log-Likelihood:                -248.45\n",
      "No. Observations:                  42   AIC:                             500.9\n",
      "Df Residuals:                      40   BIC:                             504.4\n",
      "Df Model:                           1                                         \n",
      "Covariance Type:            nonrobust                                         \n",
      "==============================================================================\n",
      "                 coef    std err          t      P>|t|      [0.025      0.975]\n",
      "------------------------------------------------------------------------------\n",
      "Intercept    132.6031     60.760      2.182      0.035       9.803     255.403\n",
      "ingresos       0.6967      0.118      5.912      0.000       0.459       0.935\n",
      "==============================================================================\n",
      "Omnibus:                       12.390   Durbin-Watson:                   1.892\n",
      "Prob(Omnibus):                  0.002   Jarque-Bera (JB):               13.243\n",
      "Skew:                          -1.044   Prob(JB):                      0.00133\n",
      "Kurtosis:                       4.791   Cond. No.                     2.21e+03\n",
      "==============================================================================\n",
      "\n",
      "Notes:\n",
      "[1] Standard Errors assume that the covariance matrix of the errors is correctly specified.\n",
      "[2] The condition number is large, 2.21e+03. This might indicate that there are\n",
      "strong multicollinearity or other numerical problems.\n"
     ]
    }
   ],
   "source": [
    "# Regresion con libreria statsmodel\n",
    "import statsmodels.formula.api as smf\n",
    "results = smf.ols('gasto ~ ingresos', data=datos).fit()\n",
    "print(results.summary())"
   ]
  },
  {
   "cell_type": "code",
   "execution_count": 38,
   "metadata": {},
   "outputs": [
    {
     "data": {
      "text/html": [
       "<div>\n",
       "<style scoped>\n",
       "    .dataframe tbody tr th:only-of-type {\n",
       "        vertical-align: middle;\n",
       "    }\n",
       "\n",
       "    .dataframe tbody tr th {\n",
       "        vertical-align: top;\n",
       "    }\n",
       "\n",
       "    .dataframe thead th {\n",
       "        text-align: right;\n",
       "    }\n",
       "</style>\n",
       "<table border=\"1\" class=\"dataframe\">\n",
       "  <thead>\n",
       "    <tr style=\"text-align: right;\">\n",
       "      <th></th>\n",
       "      <th>names</th>\n",
       "      <th>coef</th>\n",
       "      <th>se</th>\n",
       "      <th>T</th>\n",
       "      <th>pval</th>\n",
       "      <th>r2</th>\n",
       "      <th>adj_r2</th>\n",
       "      <th>CI[2.5%]</th>\n",
       "      <th>CI[97.5%]</th>\n",
       "    </tr>\n",
       "  </thead>\n",
       "  <tbody>\n",
       "    <tr>\n",
       "      <th>0</th>\n",
       "      <td>Intercept</td>\n",
       "      <td>178.796371</td>\n",
       "      <td>56.301589</td>\n",
       "      <td>3.175690</td>\n",
       "      <td>2.876676e-03</td>\n",
       "      <td>0.466341</td>\n",
       "      <td>0.453</td>\n",
       "      <td>65.006615</td>\n",
       "      <td>292.586126</td>\n",
       "    </tr>\n",
       "    <tr>\n",
       "      <th>1</th>\n",
       "      <td>gasto</td>\n",
       "      <td>0.669345</td>\n",
       "      <td>0.113214</td>\n",
       "      <td>5.912213</td>\n",
       "      <td>6.280094e-07</td>\n",
       "      <td>0.466341</td>\n",
       "      <td>0.453</td>\n",
       "      <td>0.440531</td>\n",
       "      <td>0.898160</td>\n",
       "    </tr>\n",
       "  </tbody>\n",
       "</table>\n",
       "</div>"
      ],
      "text/plain": [
       "       names        coef         se         T          pval        r2  adj_r2  \\\n",
       "0  Intercept  178.796371  56.301589  3.175690  2.876676e-03  0.466341   0.453   \n",
       "1      gasto    0.669345   0.113214  5.912213  6.280094e-07  0.466341   0.453   \n",
       "\n",
       "    CI[2.5%]   CI[97.5%]  \n",
       "0  65.006615  292.586126  \n",
       "1   0.440531    0.898160  "
      ]
     },
     "execution_count": 38,
     "metadata": {},
     "output_type": "execute_result"
    }
   ],
   "source": [
    "# Regresion con libreria pingouin\n",
    "pg.linear_regression(datos['gasto'], datos['ingresos'])"
   ]
  },
  {
   "cell_type": "markdown",
   "metadata": {},
   "source": [
    "#### H14. TEST DE HOMOGENEIDAD"
   ]
  },
  {
   "cell_type": "code",
   "execution_count": null,
   "metadata": {},
   "outputs": [],
   "source": []
  },
  {
   "cell_type": "markdown",
   "metadata": {},
   "source": [
    "#### H15. TEST DE INDEPENDENCIA"
   ]
  },
  {
   "cell_type": "code",
   "execution_count": 45,
   "metadata": {},
   "outputs": [
    {
     "data": {
      "text/html": [
       "<div>\n",
       "<style scoped>\n",
       "    .dataframe tbody tr th:only-of-type {\n",
       "        vertical-align: middle;\n",
       "    }\n",
       "\n",
       "    .dataframe tbody tr th {\n",
       "        vertical-align: top;\n",
       "    }\n",
       "\n",
       "    .dataframe thead th {\n",
       "        text-align: right;\n",
       "    }\n",
       "</style>\n",
       "<table border=\"1\" class=\"dataframe\">\n",
       "  <thead>\n",
       "    <tr style=\"text-align: right;\">\n",
       "      <th></th>\n",
       "      <th>test</th>\n",
       "      <th>lambda</th>\n",
       "      <th>chi2</th>\n",
       "      <th>dof</th>\n",
       "      <th>pval</th>\n",
       "      <th>cramer</th>\n",
       "      <th>power</th>\n",
       "    </tr>\n",
       "  </thead>\n",
       "  <tbody>\n",
       "    <tr>\n",
       "      <th>0</th>\n",
       "      <td>pearson</td>\n",
       "      <td>1.000000</td>\n",
       "      <td>0.583333</td>\n",
       "      <td>2.0</td>\n",
       "      <td>0.747018</td>\n",
       "      <td>0.117851</td>\n",
       "      <td>0.096556</td>\n",
       "    </tr>\n",
       "    <tr>\n",
       "      <th>1</th>\n",
       "      <td>cressie-read</td>\n",
       "      <td>0.666667</td>\n",
       "      <td>0.583824</td>\n",
       "      <td>2.0</td>\n",
       "      <td>0.746834</td>\n",
       "      <td>0.117901</td>\n",
       "      <td>0.096597</td>\n",
       "    </tr>\n",
       "    <tr>\n",
       "      <th>2</th>\n",
       "      <td>log-likelihood</td>\n",
       "      <td>0.000000</td>\n",
       "      <td>0.585549</td>\n",
       "      <td>2.0</td>\n",
       "      <td>0.746190</td>\n",
       "      <td>0.118075</td>\n",
       "      <td>0.096743</td>\n",
       "    </tr>\n",
       "    <tr>\n",
       "      <th>3</th>\n",
       "      <td>freeman-tukey</td>\n",
       "      <td>-0.500000</td>\n",
       "      <td>0.587501</td>\n",
       "      <td>2.0</td>\n",
       "      <td>0.745463</td>\n",
       "      <td>0.118271</td>\n",
       "      <td>0.096907</td>\n",
       "    </tr>\n",
       "    <tr>\n",
       "      <th>4</th>\n",
       "      <td>mod-log-likelihood</td>\n",
       "      <td>-1.000000</td>\n",
       "      <td>0.590024</td>\n",
       "      <td>2.0</td>\n",
       "      <td>0.744523</td>\n",
       "      <td>0.118525</td>\n",
       "      <td>0.097120</td>\n",
       "    </tr>\n",
       "    <tr>\n",
       "      <th>5</th>\n",
       "      <td>neyman</td>\n",
       "      <td>-2.000000</td>\n",
       "      <td>0.596825</td>\n",
       "      <td>2.0</td>\n",
       "      <td>0.741995</td>\n",
       "      <td>0.119206</td>\n",
       "      <td>0.097694</td>\n",
       "    </tr>\n",
       "  </tbody>\n",
       "</table>\n",
       "</div>"
      ],
      "text/plain": [
       "                 test    lambda      chi2  dof      pval    cramer     power\n",
       "0             pearson  1.000000  0.583333  2.0  0.747018  0.117851  0.096556\n",
       "1        cressie-read  0.666667  0.583824  2.0  0.746834  0.117901  0.096597\n",
       "2      log-likelihood  0.000000  0.585549  2.0  0.746190  0.118075  0.096743\n",
       "3       freeman-tukey -0.500000  0.587501  2.0  0.745463  0.118271  0.096907\n",
       "4  mod-log-likelihood -1.000000  0.590024  2.0  0.744523  0.118525  0.097120\n",
       "5              neyman -2.000000  0.596825  2.0  0.741995  0.119206  0.097694"
      ]
     },
     "execution_count": 45,
     "metadata": {},
     "output_type": "execute_result"
    }
   ],
   "source": [
    "expected, observed, stats = pg.chi2_independence(datos, x='sexo', y='ngasto')\n",
    "stats"
   ]
  },
  {
   "cell_type": "markdown",
   "metadata": {},
   "source": [
    "#### H16. TEST DE NORMALIDAD UNIVARIADO Y MULTIVARIADO"
   ]
  },
  {
   "cell_type": "code",
   "execution_count": 28,
   "metadata": {},
   "outputs": [
    {
     "name": "stdout",
     "output_type": "stream",
     "text": [
      "                W      pval  normal\n",
      "ingresos  0.94982  0.063631    True\n",
      "              W      pval  normal\n",
      "gasto  0.943949  0.039331   False\n"
     ]
    }
   ],
   "source": [
    "print(pg.normality(datos[\"ingresos\"]))\n",
    "print(pg.normality(datos[\"gasto\"]))"
   ]
  },
  {
   "cell_type": "code",
   "execution_count": 27,
   "metadata": {},
   "outputs": [
    {
     "name": "stdout",
     "output_type": "stream",
     "text": [
      "HZResults(hz=1.375640770267462, pval=0.001804553318140565, normal=False)\n"
     ]
    }
   ],
   "source": [
    "print(pg.multivariate_normality(datos[[\"ingresos\",\"gasto\"]]))"
   ]
  },
  {
   "cell_type": "code",
   "execution_count": null,
   "metadata": {},
   "outputs": [],
   "source": []
  }
 ],
 "metadata": {
  "kernelspec": {
   "display_name": "Python 3",
   "language": "python",
   "name": "python3"
  },
  "language_info": {
   "codemirror_mode": {
    "name": "ipython",
    "version": 3
   },
   "file_extension": ".py",
   "mimetype": "text/x-python",
   "name": "python",
   "nbconvert_exporter": "python",
   "pygments_lexer": "ipython3",
   "version": "3.8.5"
  }
 },
 "nbformat": 4,
 "nbformat_minor": 4
}
